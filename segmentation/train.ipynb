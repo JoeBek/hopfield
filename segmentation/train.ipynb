{
 "cells": [
  {
   "cell_type": "code",
   "execution_count": 19,
   "metadata": {},
   "outputs": [],
   "source": [
    "from models.Segformer import SegDataset, HopfieldModel\n",
    "from enum import Enum\n",
    "from transformers import SegformerForSemanticSegmentation\n",
    "\n"
   ]
  },
  {
   "cell_type": "code",
   "execution_count": 20,
   "metadata": {},
   "outputs": [
    {
     "name": "stderr",
     "output_type": "stream",
     "text": [
      "Some weights of SegformerForSemanticSegmentation were not initialized from the model checkpoint at nvidia/mit-b0 and are newly initialized: ['decode_head.batch_norm.bias', 'decode_head.batch_norm.num_batches_tracked', 'decode_head.batch_norm.running_mean', 'decode_head.batch_norm.running_var', 'decode_head.batch_norm.weight', 'decode_head.classifier.bias', 'decode_head.classifier.weight', 'decode_head.linear_c.0.proj.bias', 'decode_head.linear_c.0.proj.weight', 'decode_head.linear_c.1.proj.bias', 'decode_head.linear_c.1.proj.weight', 'decode_head.linear_c.2.proj.bias', 'decode_head.linear_c.2.proj.weight', 'decode_head.linear_c.3.proj.bias', 'decode_head.linear_c.3.proj.weight', 'decode_head.linear_fuse.weight']\n",
      "You should probably TRAIN this model on a down-stream task to be able to use it for predictions and inference.\n"
     ]
    }
   ],
   "source": [
    "# define pretrained models\n",
    "\n",
    "\n",
    "id2label = {0: 'background', 1: 'object'} \n",
    "label2id = {'background': 0, 'object': 1} \n",
    "\n",
    "\n",
    "\n",
    "\n",
    "segformer = SegformerForSemanticSegmentation.from_pretrained(\n",
    "            \"nvidia/mit-b0\",\n",
    "            id2label=id2label,\n",
    "            label2id=label2id)\n",
    "        \n",
    "    \n",
    "# define dataset\n",
    "path = \"/home/joe/vt/ml/hopfield-layers/segmentation/data/imagenet\"\n",
    "    \n",
    "\n"
   ]
  },
  {
   "cell_type": "code",
   "execution_count": 22,
   "metadata": {},
   "outputs": [
    {
     "ename": "NameError",
     "evalue": "name 'model' is not defined",
     "output_type": "error",
     "traceback": [
      "\u001b[0;31m---------------------------------------------------------------------------\u001b[0m",
      "\u001b[0;31mNameError\u001b[0m                                 Traceback (most recent call last)",
      "Cell \u001b[0;32mIn[22], line 9\u001b[0m\n\u001b[1;32m      5\u001b[0m     model \u001b[38;5;241m=\u001b[39m HopfieldModel\u001b[38;5;241m.\u001b[39mHopfieldModel(pretrained_model)\n\u001b[1;32m      7\u001b[0m     model\u001b[38;5;241m.\u001b[39mevaluate(data\u001b[38;5;241m.\u001b[39mloader)\n\u001b[0;32m----> 9\u001b[0m \u001b[43mtest_pretrained_model\u001b[49m\u001b[43m(\u001b[49m\u001b[43msegformer\u001b[49m\u001b[43m)\u001b[49m\n",
      "Cell \u001b[0;32mIn[22], line 7\u001b[0m, in \u001b[0;36mtest_pretrained_model\u001b[0;34m(pretrained_model)\u001b[0m\n\u001b[1;32m      4\u001b[0m data \u001b[38;5;241m=\u001b[39m SegDataset\u001b[38;5;241m.\u001b[39mSegDataset(path)\n\u001b[1;32m      5\u001b[0m model \u001b[38;5;241m=\u001b[39m HopfieldModel\u001b[38;5;241m.\u001b[39mHopfieldModel(pretrained_model)\n\u001b[0;32m----> 7\u001b[0m \u001b[43mmodel\u001b[49m\u001b[38;5;241;43m.\u001b[39;49m\u001b[43mevaluate\u001b[49m\u001b[43m(\u001b[49m\u001b[43mdata\u001b[49m\u001b[38;5;241;43m.\u001b[39;49m\u001b[43mloader\u001b[49m\u001b[43m)\u001b[49m\n",
      "File \u001b[0;32m~/vt/ml/hopfield-layers/segmentation/models/Segformer/HopfieldModel.py:37\u001b[0m, in \u001b[0;36mHopfieldModel.evaluate\u001b[0;34m(self, dataloader, cutoff)\u001b[0m\n\u001b[1;32m     35\u001b[0m \u001b[38;5;28mself\u001b[39m\u001b[38;5;241m.\u001b[39mmodel\u001b[38;5;241m.\u001b[39meval()\n\u001b[1;32m     36\u001b[0m device \u001b[38;5;241m=\u001b[39m torch\u001b[38;5;241m.\u001b[39mdevice(\u001b[38;5;124m\"\u001b[39m\u001b[38;5;124mcuda\u001b[39m\u001b[38;5;124m\"\u001b[39m \u001b[38;5;28;01mif\u001b[39;00m torch\u001b[38;5;241m.\u001b[39mcuda\u001b[38;5;241m.\u001b[39mis_available() \u001b[38;5;28;01melse\u001b[39;00m \u001b[38;5;124m\"\u001b[39m\u001b[38;5;124mcpu\u001b[39m\u001b[38;5;124m\"\u001b[39m)\n\u001b[0;32m---> 37\u001b[0m \u001b[43mmodel\u001b[49m\u001b[38;5;241m.\u001b[39mto(device)\n\u001b[1;32m     40\u001b[0m \u001b[38;5;28;01mfor\u001b[39;00m i,image \u001b[38;5;129;01min\u001b[39;00m \u001b[38;5;28menumerate\u001b[39m(tqdm(dataloader, total\u001b[38;5;241m=\u001b[39mcutoff)):\n\u001b[1;32m     41\u001b[0m     \u001b[38;5;28;01mif\u001b[39;00m i \u001b[38;5;241m>\u001b[39m\u001b[38;5;241m=\u001b[39m cutoff:\n",
      "\u001b[0;31mNameError\u001b[0m: name 'model' is not defined"
     ]
    }
   ],
   "source": [
    "\n",
    "# test pretrained models\n",
    "\n",
    "def test_pretrained_model(pretrained_model):\n",
    "    data = SegDataset.SegDataset(path)\n",
    "    model = HopfieldModel.HopfieldModel(pretrained_model)\n",
    "\n",
    "    model.evaluate(data.loader)\n",
    "\n",
    "test_pretrained_model(segformer)\n",
    "\n",
    "\n"
   ]
  },
  {
   "cell_type": "code",
   "execution_count": null,
   "metadata": {},
   "outputs": [],
   "source": []
  }
 ],
 "metadata": {
  "kernelspec": {
   "display_name": ".venv",
   "language": "python",
   "name": "python3"
  },
  "language_info": {
   "codemirror_mode": {
    "name": "ipython",
    "version": 3
   },
   "file_extension": ".py",
   "mimetype": "text/x-python",
   "name": "python",
   "nbconvert_exporter": "python",
   "pygments_lexer": "ipython3",
   "version": "3.10.12"
  }
 },
 "nbformat": 4,
 "nbformat_minor": 2
}
